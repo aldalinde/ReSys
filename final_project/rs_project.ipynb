{
 "cells": [
  {
   "cell_type": "code",
   "execution_count": 1,
   "metadata": {
    "id": "5Aur99NsC4Jm",
    "outputId": "9b9a338b-a52f-4253-9694-ac431b62eefc"
   },
   "outputs": [
    {
     "name": "stderr",
     "output_type": "stream",
     "text": [
      "C:\\Users\\Armik\\AppData\\Roaming\\Python\\Python37\\site-packages\\tqdm\\auto.py:22: TqdmWarning: IProgress not found. Please update jupyter and ipywidgets. See https://ipywidgets.readthedocs.io/en/stable/user_install.html\n",
      "  from .autonotebook import tqdm as notebook_tqdm\n",
      "C:\\Users\\Armik\\AppData\\Roaming\\Python\\Python37\\site-packages\\lightfm\\_lightfm_fast.py:10: UserWarning: LightFM was compiled without OpenMP support. Only a single thread will be used.\n",
      "  \"LightFM was compiled without OpenMP support. \"\n"
     ]
    }
   ],
   "source": [
    "import pandas as pd\n",
    "import numpy as np\n",
    "import matplotlib.pyplot as plt\n",
    "%matplotlib inline\n",
    "\n",
    "# Для работы с матрицами\n",
    "\n",
    "from scipy.sparse import csr_matrix, coo_matrix\n",
    "from implicit.nearest_neighbours import bm25_weight, tfidf_weight\n",
    "\n",
    "# Матричная факторизация\n",
    "from implicit import als\n",
    "from implicit.nearest_neighbours import ItemItemRecommender\n",
    "\n",
    "# Модель второго уровня\n",
    "from lightfm import LightFM\n",
    "from lightfm.evaluation import precision_at_k, recall_at_k\n",
    "\n",
    "import os, sys\n",
    "module_path = os.path.abspath(os.path.join(os.pardir))\n",
    "if module_path not in sys.path:\n",
    "    sys.path.append(module_path)\n",
    "\n",
    "# Написанные нами функции\n",
    "\n",
    "from src.utils import prefilter_items, get_user_matrix, get_item_matrix, get_useritem_matrix\n",
    "from src.recommenders import MainRecommender\n",
    "from implicit.als import AlternatingLeastSquares"
   ]
  },
  {
   "cell_type": "code",
   "execution_count": 2,
   "metadata": {},
   "outputs": [],
   "source": [
    "from sklearn import preprocessing\n",
    "from sklearn.model_selection import GridSearchCV"
   ]
  },
  {
   "cell_type": "code",
   "execution_count": 3,
   "metadata": {},
   "outputs": [],
   "source": [
    "from src.metrics import prec_at_k, rec_at_k"
   ]
  },
  {
   "cell_type": "code",
   "execution_count": 4,
   "metadata": {},
   "outputs": [],
   "source": [
    "# param grid to search for better arguments' values for the model\n",
    "param_grid = {\n",
    "    'no_components': [10, 20, 30],\n",
    "    'learning_rate': np.linspace(0.005, 0.03, num=5), \n",
    "    'loss': ['bpr', 'warp'], #=, # \n",
    "    'item_alpha': np.linspace(0.001, 0.05, num=5), \n",
    "    'user_alpha': np.linspace(0.001, 0.05, num=5)\n",
    "}\n"
   ]
  },
  {
   "cell_type": "code",
   "execution_count": 5,
   "metadata": {},
   "outputs": [],
   "source": [
    "# downloading data\n",
    "\n",
    "data = pd.read_csv('../data/retail_train.csv')\n",
    "item_features = pd.read_csv('../data/product.csv')\n",
    "user_features = pd.read_csv('../data/hh_demographic.csv')\n",
    "test_data = pd.read_csv('../data/retail_test1.csv')"
   ]
  },
  {
   "cell_type": "code",
   "execution_count": 6,
   "metadata": {},
   "outputs": [],
   "source": [
    "# same column names through users', items' and transactions' tables\n",
    "item_features.columns = [col.lower() for col in item_features.columns]\n",
    "user_features.columns = [col.lower() for col in user_features.columns]\n",
    "\n",
    "item_features.rename(columns={'product_id': 'item_id'}, inplace=True)\n",
    "user_features.rename(columns={'household_key': 'user_id'}, inplace=True)"
   ]
  },
  {
   "cell_type": "code",
   "execution_count": 7,
   "metadata": {
    "id": "vso_erSdC4Jo",
    "outputId": "da20dbf1-3086-4fd6-ac92-f7653d7f9f71"
   },
   "outputs": [
    {
     "data": {
      "text/html": [
       "<div>\n",
       "<style scoped>\n",
       "    .dataframe tbody tr th:only-of-type {\n",
       "        vertical-align: middle;\n",
       "    }\n",
       "\n",
       "    .dataframe tbody tr th {\n",
       "        vertical-align: top;\n",
       "    }\n",
       "\n",
       "    .dataframe thead th {\n",
       "        text-align: right;\n",
       "    }\n",
       "</style>\n",
       "<table border=\"1\" class=\"dataframe\">\n",
       "  <thead>\n",
       "    <tr style=\"text-align: right;\">\n",
       "      <th></th>\n",
       "      <th>user_id</th>\n",
       "      <th>basket_id</th>\n",
       "      <th>day</th>\n",
       "      <th>item_id</th>\n",
       "      <th>quantity</th>\n",
       "      <th>sales_value</th>\n",
       "      <th>store_id</th>\n",
       "      <th>retail_disc</th>\n",
       "      <th>trans_time</th>\n",
       "      <th>week_no</th>\n",
       "      <th>coupon_disc</th>\n",
       "      <th>coupon_match_disc</th>\n",
       "    </tr>\n",
       "  </thead>\n",
       "  <tbody>\n",
       "    <tr>\n",
       "      <th>0</th>\n",
       "      <td>2375</td>\n",
       "      <td>26984851472</td>\n",
       "      <td>1</td>\n",
       "      <td>1004906</td>\n",
       "      <td>1</td>\n",
       "      <td>1.39</td>\n",
       "      <td>364</td>\n",
       "      <td>-0.6</td>\n",
       "      <td>1631</td>\n",
       "      <td>1</td>\n",
       "      <td>0.0</td>\n",
       "      <td>0.0</td>\n",
       "    </tr>\n",
       "    <tr>\n",
       "      <th>1</th>\n",
       "      <td>2375</td>\n",
       "      <td>26984851472</td>\n",
       "      <td>1</td>\n",
       "      <td>1033142</td>\n",
       "      <td>1</td>\n",
       "      <td>0.82</td>\n",
       "      <td>364</td>\n",
       "      <td>0.0</td>\n",
       "      <td>1631</td>\n",
       "      <td>1</td>\n",
       "      <td>0.0</td>\n",
       "      <td>0.0</td>\n",
       "    </tr>\n",
       "  </tbody>\n",
       "</table>\n",
       "</div>"
      ],
      "text/plain": [
       "   user_id    basket_id  day  item_id  quantity  sales_value  store_id  \\\n",
       "0     2375  26984851472    1  1004906         1         1.39       364   \n",
       "1     2375  26984851472    1  1033142         1         0.82       364   \n",
       "\n",
       "   retail_disc  trans_time  week_no  coupon_disc  coupon_match_disc  \n",
       "0         -0.6        1631        1          0.0                0.0  \n",
       "1          0.0        1631        1          0.0                0.0  "
      ]
     },
     "execution_count": 7,
     "metadata": {},
     "output_type": "execute_result"
    }
   ],
   "source": [
    "# Важна схема обучения и валидации!\n",
    "# -- давние покупки --train | -- 6 недель -- val_lvl_1| -- 3 недель --val_lvl_2 \n",
    "# подобрать размер 2-ого датасета (6 недель) --> learning curve (зависимость метрики recall@k от размера датасета)\n",
    "val_lvl_1_size_weeks = 6\n",
    "val_lvl_2_size_weeks = 3\n",
    "\n",
    "data_train_lvl_1 = data[data['week_no'] < data['week_no'].max() - (val_lvl_1_size_weeks + val_lvl_2_size_weeks)]\n",
    "data_val_lvl_1 = data[(data['week_no'] >= data['week_no'].max() - (val_lvl_1_size_weeks + val_lvl_2_size_weeks)) &\n",
    "                      (data['week_no'] < data['week_no'].max() - (val_lvl_2_size_weeks))]\n",
    "\n",
    "data_train_lvl_2 = data_val_lvl_1.copy()  # Для наглядности. Далее мы добавим изменения, и они будут отличаться\n",
    "data_val_lvl_2 = data[data['week_no'] >= data['week_no'].max() - val_lvl_2_size_weeks]\n",
    "\n",
    "data_train_lvl_1.head(2)"
   ]
  },
  {
   "cell_type": "code",
   "execution_count": 8,
   "metadata": {
    "id": "frt2RzDWC4Jt",
    "outputId": "7c594abf-4a34-406b-9897-8bfbddf69a93"
   },
   "outputs": [
    {
     "data": {
      "text/html": [
       "<div>\n",
       "<style scoped>\n",
       "    .dataframe tbody tr th:only-of-type {\n",
       "        vertical-align: middle;\n",
       "    }\n",
       "\n",
       "    .dataframe tbody tr th {\n",
       "        vertical-align: top;\n",
       "    }\n",
       "\n",
       "    .dataframe thead th {\n",
       "        text-align: right;\n",
       "    }\n",
       "</style>\n",
       "<table border=\"1\" class=\"dataframe\">\n",
       "  <thead>\n",
       "    <tr style=\"text-align: right;\">\n",
       "      <th></th>\n",
       "      <th>user_id</th>\n",
       "      <th>actual</th>\n",
       "    </tr>\n",
       "  </thead>\n",
       "  <tbody>\n",
       "    <tr>\n",
       "      <th>0</th>\n",
       "      <td>1</td>\n",
       "      <td>[853529, 865456, 867607, 872137, 874905, 87524...</td>\n",
       "    </tr>\n",
       "    <tr>\n",
       "      <th>1</th>\n",
       "      <td>2</td>\n",
       "      <td>[15830248, 838136, 839656, 861272, 866211, 870...</td>\n",
       "    </tr>\n",
       "  </tbody>\n",
       "</table>\n",
       "</div>"
      ],
      "text/plain": [
       "   user_id                                             actual\n",
       "0        1  [853529, 865456, 867607, 872137, 874905, 87524...\n",
       "1        2  [15830248, 838136, 839656, 861272, 866211, 870..."
      ]
     },
     "execution_count": 8,
     "metadata": {},
     "output_type": "execute_result"
    }
   ],
   "source": [
    "# dataframe with purchase results for each user in validation 1 data - data_val_lvl_1\n",
    "result_lvl_1 = data_val_lvl_1.groupby('user_id')['item_id'].unique().reset_index()\n",
    "result_lvl_1.columns=['user_id', 'actual']\n",
    "result_lvl_1.head(2)"
   ]
  },
  {
   "cell_type": "code",
   "execution_count": 9,
   "metadata": {},
   "outputs": [
    {
     "data": {
      "text/html": [
       "<div>\n",
       "<style scoped>\n",
       "    .dataframe tbody tr th:only-of-type {\n",
       "        vertical-align: middle;\n",
       "    }\n",
       "\n",
       "    .dataframe tbody tr th {\n",
       "        vertical-align: top;\n",
       "    }\n",
       "\n",
       "    .dataframe thead th {\n",
       "        text-align: right;\n",
       "    }\n",
       "</style>\n",
       "<table border=\"1\" class=\"dataframe\">\n",
       "  <thead>\n",
       "    <tr style=\"text-align: right;\">\n",
       "      <th></th>\n",
       "      <th>user_id</th>\n",
       "      <th>actual</th>\n",
       "    </tr>\n",
       "  </thead>\n",
       "  <tbody>\n",
       "    <tr>\n",
       "      <th>0</th>\n",
       "      <td>1</td>\n",
       "      <td>[821867, 834484, 856942, 865456, 889248, 90795...</td>\n",
       "    </tr>\n",
       "    <tr>\n",
       "      <th>1</th>\n",
       "      <td>3</td>\n",
       "      <td>[835476, 851057, 872021, 878302, 879948, 90963...</td>\n",
       "    </tr>\n",
       "  </tbody>\n",
       "</table>\n",
       "</div>"
      ],
      "text/plain": [
       "   user_id                                             actual\n",
       "0        1  [821867, 834484, 856942, 865456, 889248, 90795...\n",
       "1        3  [835476, 851057, 872021, 878302, 879948, 90963..."
      ]
     },
     "execution_count": 9,
     "metadata": {},
     "output_type": "execute_result"
    }
   ],
   "source": [
    "# dataframe with purchase results for each user in validation 2 data -data_val_lvl_2\n",
    "result_lvl_2 = data_val_lvl_2.groupby('user_id')['item_id'].unique().reset_index()\n",
    "result_lvl_2.columns=['user_id', 'actual']\n",
    "result_lvl_2.head(2)"
   ]
  },
  {
   "cell_type": "markdown",
   "metadata": {},
   "source": [
    "# prefiltering train data, checking number of items left for recommendation"
   ]
  },
  {
   "cell_type": "code",
   "execution_count": 10,
   "metadata": {
    "id": "zcnV3l4XC4Jp",
    "outputId": "d58f889c-0671-4bb9-b2b6-2dc2e8c24fce"
   },
   "outputs": [
    {
     "name": "stdout",
     "output_type": "stream",
     "text": [
      "Decreased # items from 83685 to 5000\n"
     ]
    }
   ],
   "source": [
    "\n",
    "n_items_before = data_train_lvl_1['item_id'].nunique()\n",
    "\n",
    "prefiltered_train_lvl_1 = prefilter_items(data_train_lvl_1)\n",
    "\n",
    "n_items_after = prefiltered_train_lvl_1['item_id'].nunique()\n",
    "print('Decreased # items from {} to {}'.format(n_items_before, n_items_after))"
   ]
  },
  {
   "cell_type": "code",
   "execution_count": 11,
   "metadata": {},
   "outputs": [
    {
     "data": {
      "text/plain": [
       "2499"
      ]
     },
     "execution_count": 11,
     "metadata": {},
     "output_type": "execute_result"
    }
   ],
   "source": [
    "# checking number of unique users in all data\n",
    "data['user_id'].nunique()"
   ]
  },
  {
   "cell_type": "code",
   "execution_count": 12,
   "metadata": {},
   "outputs": [
    {
     "data": {
      "text/plain": [
       "1885"
      ]
     },
     "execution_count": 12,
     "metadata": {},
     "output_type": "execute_result"
    }
   ],
   "source": [
    "#checking number of users in test data\n",
    "test_data['user_id'].nunique()"
   ]
  },
  {
   "cell_type": "code",
   "execution_count": 13,
   "metadata": {},
   "outputs": [
    {
     "data": {
      "text/plain": [
       "1885"
      ]
     },
     "execution_count": 13,
     "metadata": {},
     "output_type": "execute_result"
    }
   ],
   "source": [
    "# number of users in test data new to train data\n",
    "len([us for us in test_data['user_id'].unique() if us in data['user_id']])"
   ]
  },
  {
   "cell_type": "code",
   "execution_count": 84,
   "metadata": {},
   "outputs": [
    {
     "data": {
      "text/plain": [
       "array([2375, 2375, 2375, ...,  856,  856,  856], dtype=int64)"
      ]
     },
     "execution_count": 84,
     "metadata": {},
     "output_type": "execute_result"
    }
   ],
   "source": [
    "#number of users in prefiltered train data\n",
    "prefiltered_train_lvl_1['user_id'].values"
   ]
  },
  {
   "cell_type": "markdown",
   "metadata": {},
   "source": [
    "Warm users - valid data users, that are also in prefiltered train data\n",
    "Cold users - valid data users, that are NOT in prefiltered train data"
   ]
  },
  {
   "cell_type": "code",
   "execution_count": 82,
   "metadata": {},
   "outputs": [],
   "source": [
    "warm_users_1 = [x for x in result_lvl_1['user_id'].values if x in prefiltered_train_lvl_1['user_id'].unique()]\n",
    "cold_users_1 = [x for x in result_lvl_1['user_id'].values if x not in prefiltered_train_lvl_1['user_id'].unique()]"
   ]
  },
  {
   "cell_type": "code",
   "execution_count": 16,
   "metadata": {},
   "outputs": [
    {
     "name": "stdout",
     "output_type": "stream",
     "text": [
      "in validation 1 data number of warm users: 1193, of cold users 961\n"
     ]
    }
   ],
   "source": [
    "print(f'in validation 1 data number of warm users: {len(warm_users_1)}, of cold users {len(cold_users_1)}')"
   ]
  },
  {
   "cell_type": "code",
   "execution_count": 17,
   "metadata": {},
   "outputs": [],
   "source": [
    "warm_users_2 = [x for x in result_lvl_2['user_id'].values if x in prefiltered_train_lvl_1['user_id']]\n",
    "cold_users_2 = [x for x in result_lvl_2['user_id'].values if x not in prefiltered_train_lvl_1['user_id']]"
   ]
  },
  {
   "cell_type": "code",
   "execution_count": 18,
   "metadata": {},
   "outputs": [
    {
     "name": "stdout",
     "output_type": "stream",
     "text": [
      "in validation 2 data number of warm users: 1139, of cold users 903\n"
     ]
    }
   ],
   "source": [
    "print(f'in validation 2 data number of warm users: {len(warm_users_2)}, of cold users {len(cold_users_2)}')"
   ]
  },
  {
   "cell_type": "code",
   "execution_count": 19,
   "metadata": {},
   "outputs": [],
   "source": [
    "# preparing user_item matrix with number of each purchased item by each user\n",
    "user_item_matrix = pd.pivot_table(prefiltered_train_lvl_1, index='user_id', columns='item_id', values='quantity',\n",
    "                                      aggfunc='count', fill_value=0)\n",
    "user_item_matrix = user_item_matrix.astype(float)\n",
    "sparse_user_item = csr_matrix(user_item_matrix).tocsr()\n"
   ]
  },
  {
   "cell_type": "code",
   "execution_count": 20,
   "metadata": {},
   "outputs": [
    {
     "data": {
      "text/html": [
       "<div>\n",
       "<style scoped>\n",
       "    .dataframe tbody tr th:only-of-type {\n",
       "        vertical-align: middle;\n",
       "    }\n",
       "\n",
       "    .dataframe tbody tr th {\n",
       "        vertical-align: top;\n",
       "    }\n",
       "\n",
       "    .dataframe thead th {\n",
       "        text-align: right;\n",
       "    }\n",
       "</style>\n",
       "<table border=\"1\" class=\"dataframe\">\n",
       "  <thead>\n",
       "    <tr style=\"text-align: right;\">\n",
       "      <th>item_id</th>\n",
       "      <th>202291</th>\n",
       "      <th>397896</th>\n",
       "      <th>420647</th>\n",
       "      <th>480014</th>\n",
       "      <th>545926</th>\n",
       "      <th>707683</th>\n",
       "      <th>731106</th>\n",
       "      <th>818980</th>\n",
       "      <th>819063</th>\n",
       "      <th>819255</th>\n",
       "      <th>...</th>\n",
       "      <th>15511891</th>\n",
       "      <th>15596279</th>\n",
       "      <th>15596488</th>\n",
       "      <th>15596515</th>\n",
       "      <th>15778533</th>\n",
       "      <th>15926844</th>\n",
       "      <th>15926886</th>\n",
       "      <th>15927403</th>\n",
       "      <th>15927661</th>\n",
       "      <th>15927850</th>\n",
       "    </tr>\n",
       "    <tr>\n",
       "      <th>user_id</th>\n",
       "      <th></th>\n",
       "      <th></th>\n",
       "      <th></th>\n",
       "      <th></th>\n",
       "      <th></th>\n",
       "      <th></th>\n",
       "      <th></th>\n",
       "      <th></th>\n",
       "      <th></th>\n",
       "      <th></th>\n",
       "      <th></th>\n",
       "      <th></th>\n",
       "      <th></th>\n",
       "      <th></th>\n",
       "      <th></th>\n",
       "      <th></th>\n",
       "      <th></th>\n",
       "      <th></th>\n",
       "      <th></th>\n",
       "      <th></th>\n",
       "      <th></th>\n",
       "    </tr>\n",
       "  </thead>\n",
       "  <tbody>\n",
       "    <tr>\n",
       "      <th>1</th>\n",
       "      <td>0.0</td>\n",
       "      <td>0.0</td>\n",
       "      <td>0.0</td>\n",
       "      <td>0.0</td>\n",
       "      <td>0.0</td>\n",
       "      <td>0.0</td>\n",
       "      <td>0.0</td>\n",
       "      <td>0.0</td>\n",
       "      <td>0.0</td>\n",
       "      <td>0.0</td>\n",
       "      <td>...</td>\n",
       "      <td>0.0</td>\n",
       "      <td>0.0</td>\n",
       "      <td>0.0</td>\n",
       "      <td>0.0</td>\n",
       "      <td>0.0</td>\n",
       "      <td>1.0</td>\n",
       "      <td>0.0</td>\n",
       "      <td>0.0</td>\n",
       "      <td>0.0</td>\n",
       "      <td>0.0</td>\n",
       "    </tr>\n",
       "    <tr>\n",
       "      <th>2</th>\n",
       "      <td>0.0</td>\n",
       "      <td>0.0</td>\n",
       "      <td>0.0</td>\n",
       "      <td>0.0</td>\n",
       "      <td>0.0</td>\n",
       "      <td>0.0</td>\n",
       "      <td>0.0</td>\n",
       "      <td>0.0</td>\n",
       "      <td>0.0</td>\n",
       "      <td>0.0</td>\n",
       "      <td>...</td>\n",
       "      <td>0.0</td>\n",
       "      <td>0.0</td>\n",
       "      <td>0.0</td>\n",
       "      <td>0.0</td>\n",
       "      <td>0.0</td>\n",
       "      <td>0.0</td>\n",
       "      <td>0.0</td>\n",
       "      <td>0.0</td>\n",
       "      <td>0.0</td>\n",
       "      <td>0.0</td>\n",
       "    </tr>\n",
       "  </tbody>\n",
       "</table>\n",
       "<p>2 rows × 5000 columns</p>\n",
       "</div>"
      ],
      "text/plain": [
       "item_id  202291    397896    420647    480014    545926    707683    731106    \\\n",
       "user_id                                                                         \n",
       "1             0.0       0.0       0.0       0.0       0.0       0.0       0.0   \n",
       "2             0.0       0.0       0.0       0.0       0.0       0.0       0.0   \n",
       "\n",
       "item_id  818980    819063    819255    ...  15511891  15596279  15596488  \\\n",
       "user_id                                ...                                 \n",
       "1             0.0       0.0       0.0  ...       0.0       0.0       0.0   \n",
       "2             0.0       0.0       0.0  ...       0.0       0.0       0.0   \n",
       "\n",
       "item_id  15596515  15778533  15926844  15926886  15927403  15927661  15927850  \n",
       "user_id                                                                        \n",
       "1             0.0       0.0       1.0       0.0       0.0       0.0       0.0  \n",
       "2             0.0       0.0       0.0       0.0       0.0       0.0       0.0  \n",
       "\n",
       "[2 rows x 5000 columns]"
      ]
     },
     "execution_count": 20,
     "metadata": {},
     "output_type": "execute_result"
    }
   ],
   "source": [
    "user_item_matrix.head(2)"
   ]
  },
  {
   "cell_type": "code",
   "execution_count": 21,
   "metadata": {},
   "outputs": [
    {
     "name": "stderr",
     "output_type": "stream",
     "text": [
      "WARNING:root:OpenBLAS detected. Its highly recommend to set the environment variable 'export OPENBLAS_NUM_THREADS=1' to disable its internal multithreading\n",
      "100%|██████████████████████████████████████████████████████████████████████████████████| 15/15 [00:03<00:00,  4.07it/s]\n",
      "100%|███████████████████████████████████████████████████████████████████████████| 5000/5000 [00:00<00:00, 14486.41it/s]\n"
     ]
    }
   ],
   "source": [
    "als_model = MainRecommender(prefiltered_train_lvl_1)"
   ]
  },
  {
   "cell_type": "code",
   "execution_count": 22,
   "metadata": {},
   "outputs": [],
   "source": [
    "item_factors = als_model.item_factors\n",
    "user_factors = als_model.user_factors"
   ]
  },
  {
   "cell_type": "markdown",
   "metadata": {},
   "source": [
    "### predictions  with implicit.predict(recalculate_user=True)  on validation data users including users new for train data"
   ]
  },
  {
   "cell_type": "code",
   "execution_count": 23,
   "metadata": {},
   "outputs": [],
   "source": [
    "       \n",
    "def prepare_matrx(data):\n",
    "        \n",
    "    user_item_matrix = pd.pivot_table(data, index='user_id', columns='item_id', values='quantity',\n",
    "                                      aggfunc='count', fill_value=0)\n",
    "    \n",
    "    user_item_matrix = user_item_matrix.astype(float)  # необходимый тип матрицы для implicit\n",
    "    \n",
    "    return user_item_matrix\n",
    "         \n",
    "         \n",
    "def prepare_dict(user_item_matrix):\n",
    "    userids = user_item_matrix.index.values\n",
    "    itemids = user_item_matrix.columns.values\n",
    "    matrix_userids = np.arange(len(userids))\n",
    "    matrix_itemids = np.arange(len(itemids))\n",
    "\n",
    "    id_to_itemid = dict(zip(matrix_itemids, itemids))\n",
    "    id_to_userid = dict(zip(matrix_userids, userids))\n",
    "    itemid_to_id = dict(zip(itemids, matrix_itemids))\n",
    "    userid_to_id = dict(zip(userids, matrix_userids))\n",
    "\n",
    "    return id_to_itemid, id_to_userid, itemid_to_id, userid_to_id\n",
    "         \n",
    "         \n",
    "def upd_dict(self, user_id):\n",
    "    if user_id not in userid_to_id.keys():\n",
    "        max_id = max(list(userid_to_id.values()))\n",
    "        max_id += 1\n",
    "        \n",
    "        userid_to_id.update({user_id: max_id})\n",
    "        id_to_userid.update({max_id: user_id})\n",
    "    return id_to_itemid, id_to_userid, itemid_to_id, userid_to_id\n",
    "         \n",
    "         \n",
    "def fit(data, n_factors=20, regularization=0.001, iterations=15, num_threads=4):\n",
    "    user_item_matrix = prepare_matrx(data)\n",
    "    user_item_matrix = bm25_weight(user_item_matrix.T).T\n",
    "    model = AlternatingLeastSquares(factors=n_factors, regularization=regularization,\n",
    "                                    iterations=iterations, num_threads=num_threads)\n",
    "    model.fit(csr_matrix(user_item_matrix).T.tocsr())\n",
    "\n",
    "    return model\n",
    "         \n",
    "         \n",
    "def get_als_recommends(prefiltered_data, user, unfiltered_data, model, N=50):\n",
    "    if user in prefiltered_data['user_id'].unique():\n",
    "        prefiltered_matrix = prepare_matrx(prefiltered_data)\n",
    "        id_to_itemid, id_to_userid, itemid_to_id, userid_to_id = prepare_dict(prefiltered_matrix)\n",
    "        prefiltered_matrix = bm25_weight(prefiltered_matrix.T).T\n",
    "\n",
    "        rec = model.recommend(userid=userid_to_id[user], user_items=csr_matrix(prefiltered_matrix).tocsr(),\n",
    "                              N=N, filter_already_liked_items=False, recalculate_user=True)\n",
    "        rec_ids = [id_to_itemid[f[0]] for f in rec]\n",
    "        \n",
    "    else:\n",
    "        \n",
    "        new_df = pd.concat([prefiltered_data, unfiltered_data.loc[unfiltered_data['user_id']==user, :]])\n",
    "        prefiltered_matrix = prepare_matrx(new_df)\n",
    "        id_to_itemid, id_to_userid, itemid_to_id, userid_to_id = prepare_dict(prefiltered_matrix)\n",
    "        prefiltered_matrix = bm25_weight(prefiltered_matrix.T).T\n",
    "        rec = model.recommend(userid=userid_to_id[user], user_items=csr_matrix(new_df).tocsr(),\n",
    "                              N=N, filter_already_liked_items=False, recalculate_user=True)\n",
    "        rec_ids = [id_to_itemid[f[0]] for f in rec]\n",
    "        \n",
    "    return np.array(rec_ids)\n"
   ]
  },
  {
   "cell_type": "code",
   "execution_count": 24,
   "metadata": {},
   "outputs": [
    {
     "name": "stderr",
     "output_type": "stream",
     "text": [
      "100%|██████████████████████████████████████████████████████████████████████████████████| 15/15 [00:03<00:00,  3.91it/s]\n"
     ]
    }
   ],
   "source": [
    "my_als_model = fit(prefiltered_train_lvl_1)"
   ]
  },
  {
   "cell_type": "code",
   "execution_count": 25,
   "metadata": {},
   "outputs": [],
   "source": [
    "result_lvl_1['recalc_500'] = result_lvl_1['user_id'].apply(lambda x: get_als_recommends(prefiltered_train_lvl_1,\n",
    "                                                                                     x, data_val_lvl_1, my_als_model, N=500))"
   ]
  },
  {
   "cell_type": "code",
   "execution_count": 26,
   "metadata": {},
   "outputs": [
    {
     "data": {
      "text/html": [
       "<div>\n",
       "<style scoped>\n",
       "    .dataframe tbody tr th:only-of-type {\n",
       "        vertical-align: middle;\n",
       "    }\n",
       "\n",
       "    .dataframe tbody tr th {\n",
       "        vertical-align: top;\n",
       "    }\n",
       "\n",
       "    .dataframe thead th {\n",
       "        text-align: right;\n",
       "    }\n",
       "</style>\n",
       "<table border=\"1\" class=\"dataframe\">\n",
       "  <thead>\n",
       "    <tr style=\"text-align: right;\">\n",
       "      <th></th>\n",
       "      <th>user_id</th>\n",
       "      <th>actual</th>\n",
       "      <th>recalc_500</th>\n",
       "    </tr>\n",
       "  </thead>\n",
       "  <tbody>\n",
       "    <tr>\n",
       "      <th>0</th>\n",
       "      <td>1</td>\n",
       "      <td>[853529, 865456, 867607, 872137, 874905, 87524...</td>\n",
       "      <td>[1062572, 1028166, 1059930, 1082185, 856942, 9...</td>\n",
       "    </tr>\n",
       "    <tr>\n",
       "      <th>1</th>\n",
       "      <td>2</td>\n",
       "      <td>[15830248, 838136, 839656, 861272, 866211, 870...</td>\n",
       "      <td>[834484, 1082185, 5569230, 1041259, 916122, 90...</td>\n",
       "    </tr>\n",
       "    <tr>\n",
       "      <th>2</th>\n",
       "      <td>4</td>\n",
       "      <td>[883932, 970760, 1035676, 1055863, 1097610, 67...</td>\n",
       "      <td>[891423, 951590, 902172, 883932, 846550, 80905...</td>\n",
       "    </tr>\n",
       "    <tr>\n",
       "      <th>3</th>\n",
       "      <td>6</td>\n",
       "      <td>[1024306, 1102949, 6548453, 835394, 940804, 96...</td>\n",
       "      <td>[1082185, 878996, 857006, 965267, 1127831, 102...</td>\n",
       "    </tr>\n",
       "    <tr>\n",
       "      <th>4</th>\n",
       "      <td>7</td>\n",
       "      <td>[836281, 843306, 845294, 914190, 920456, 93886...</td>\n",
       "      <td>[853643, 5588238, 1003188, 5584645, 5587043, 5...</td>\n",
       "    </tr>\n",
       "    <tr>\n",
       "      <th>...</th>\n",
       "      <td>...</td>\n",
       "      <td>...</td>\n",
       "      <td>...</td>\n",
       "    </tr>\n",
       "    <tr>\n",
       "      <th>2149</th>\n",
       "      <td>2496</td>\n",
       "      <td>[831509, 867188, 1013623, 1048851, 5592734, 16...</td>\n",
       "      <td>[1004906, 844179, 831628, 1020581, 12810393, 1...</td>\n",
       "    </tr>\n",
       "    <tr>\n",
       "      <th>2150</th>\n",
       "      <td>2497</td>\n",
       "      <td>[820291, 824759, 838797, 859010, 859075, 86077...</td>\n",
       "      <td>[1098066, 826249, 981760, 5569230, 904360, 899...</td>\n",
       "    </tr>\n",
       "    <tr>\n",
       "      <th>2151</th>\n",
       "      <td>2498</td>\n",
       "      <td>[865511, 962991, 1076374, 1102358, 5564901, 15...</td>\n",
       "      <td>[997796, 886787, 1133072, 830503, 892844, 8551...</td>\n",
       "    </tr>\n",
       "    <tr>\n",
       "      <th>2152</th>\n",
       "      <td>2499</td>\n",
       "      <td>[861282, 921744, 1050968, 13842089, 828837, 86...</td>\n",
       "      <td>[826249, 883404, 1098066, 929668, 822407, 1029...</td>\n",
       "    </tr>\n",
       "    <tr>\n",
       "      <th>2153</th>\n",
       "      <td>2500</td>\n",
       "      <td>[856455, 902192, 903476, 931672, 936634, 95170...</td>\n",
       "      <td>[6534178, 873527, 1135959, 1019286, 890455, 10...</td>\n",
       "    </tr>\n",
       "  </tbody>\n",
       "</table>\n",
       "<p>2154 rows × 3 columns</p>\n",
       "</div>"
      ],
      "text/plain": [
       "      user_id                                             actual  \\\n",
       "0           1  [853529, 865456, 867607, 872137, 874905, 87524...   \n",
       "1           2  [15830248, 838136, 839656, 861272, 866211, 870...   \n",
       "2           4  [883932, 970760, 1035676, 1055863, 1097610, 67...   \n",
       "3           6  [1024306, 1102949, 6548453, 835394, 940804, 96...   \n",
       "4           7  [836281, 843306, 845294, 914190, 920456, 93886...   \n",
       "...       ...                                                ...   \n",
       "2149     2496  [831509, 867188, 1013623, 1048851, 5592734, 16...   \n",
       "2150     2497  [820291, 824759, 838797, 859010, 859075, 86077...   \n",
       "2151     2498  [865511, 962991, 1076374, 1102358, 5564901, 15...   \n",
       "2152     2499  [861282, 921744, 1050968, 13842089, 828837, 86...   \n",
       "2153     2500  [856455, 902192, 903476, 931672, 936634, 95170...   \n",
       "\n",
       "                                             recalc_500  \n",
       "0     [1062572, 1028166, 1059930, 1082185, 856942, 9...  \n",
       "1     [834484, 1082185, 5569230, 1041259, 916122, 90...  \n",
       "2     [891423, 951590, 902172, 883932, 846550, 80905...  \n",
       "3     [1082185, 878996, 857006, 965267, 1127831, 102...  \n",
       "4     [853643, 5588238, 1003188, 5584645, 5587043, 5...  \n",
       "...                                                 ...  \n",
       "2149  [1004906, 844179, 831628, 1020581, 12810393, 1...  \n",
       "2150  [1098066, 826249, 981760, 5569230, 904360, 899...  \n",
       "2151  [997796, 886787, 1133072, 830503, 892844, 8551...  \n",
       "2152  [826249, 883404, 1098066, 929668, 822407, 1029...  \n",
       "2153  [6534178, 873527, 1135959, 1019286, 890455, 10...  \n",
       "\n",
       "[2154 rows x 3 columns]"
      ]
     },
     "execution_count": 26,
     "metadata": {},
     "output_type": "execute_result"
    }
   ],
   "source": [
    "result_lvl_1"
   ]
  },
  {
   "cell_type": "code",
   "execution_count": 27,
   "metadata": {},
   "outputs": [
    {
     "data": {
      "text/plain": [
       "0.178644382544104"
      ]
     },
     "execution_count": 27,
     "metadata": {},
     "output_type": "execute_result"
    }
   ],
   "source": [
    "result_lvl_1.apply(lambda row: precision_at_k(row['recalc_500'], row['actual'], k=5), axis=1).mean()"
   ]
  },
  {
   "cell_type": "markdown",
   "metadata": {},
   "source": [
    "### predictions on train users with MainRecommender class get_als_recommendations() via multiplication of embedding matrices"
   ]
  },
  {
   "cell_type": "code",
   "execution_count": 28,
   "metadata": {},
   "outputs": [],
   "source": [
    "df_als_predictions = als_model.recommendations_matrix"
   ]
  },
  {
   "cell_type": "code",
   "execution_count": 29,
   "metadata": {},
   "outputs": [
    {
     "data": {
      "text/plain": [
       "(2484, 5000)"
      ]
     },
     "execution_count": 29,
     "metadata": {},
     "output_type": "execute_result"
    }
   ],
   "source": [
    "df_als_predictions.shape"
   ]
  },
  {
   "cell_type": "code",
   "execution_count": 30,
   "metadata": {},
   "outputs": [
    {
     "data": {
      "text/html": [
       "<div>\n",
       "<style scoped>\n",
       "    .dataframe tbody tr th:only-of-type {\n",
       "        vertical-align: middle;\n",
       "    }\n",
       "\n",
       "    .dataframe tbody tr th {\n",
       "        vertical-align: top;\n",
       "    }\n",
       "\n",
       "    .dataframe thead th {\n",
       "        text-align: right;\n",
       "    }\n",
       "</style>\n",
       "<table border=\"1\" class=\"dataframe\">\n",
       "  <thead>\n",
       "    <tr style=\"text-align: right;\">\n",
       "      <th></th>\n",
       "      <th>202291</th>\n",
       "      <th>397896</th>\n",
       "      <th>420647</th>\n",
       "      <th>480014</th>\n",
       "      <th>545926</th>\n",
       "      <th>707683</th>\n",
       "      <th>731106</th>\n",
       "      <th>818980</th>\n",
       "      <th>819063</th>\n",
       "      <th>819255</th>\n",
       "      <th>...</th>\n",
       "      <th>15511891</th>\n",
       "      <th>15596279</th>\n",
       "      <th>15596488</th>\n",
       "      <th>15596515</th>\n",
       "      <th>15778533</th>\n",
       "      <th>15926844</th>\n",
       "      <th>15926886</th>\n",
       "      <th>15927403</th>\n",
       "      <th>15927661</th>\n",
       "      <th>15927850</th>\n",
       "    </tr>\n",
       "  </thead>\n",
       "  <tbody>\n",
       "    <tr>\n",
       "      <th>1</th>\n",
       "      <td>0.067055</td>\n",
       "      <td>0.433216</td>\n",
       "      <td>-0.033046</td>\n",
       "      <td>-0.065813</td>\n",
       "      <td>-0.025529</td>\n",
       "      <td>0.020166</td>\n",
       "      <td>0.107086</td>\n",
       "      <td>0.752276</td>\n",
       "      <td>0.446219</td>\n",
       "      <td>0.315361</td>\n",
       "      <td>...</td>\n",
       "      <td>0.318527</td>\n",
       "      <td>0.211592</td>\n",
       "      <td>0.272231</td>\n",
       "      <td>0.256608</td>\n",
       "      <td>0.608950</td>\n",
       "      <td>0.232541</td>\n",
       "      <td>0.179535</td>\n",
       "      <td>0.438885</td>\n",
       "      <td>0.192917</td>\n",
       "      <td>0.546211</td>\n",
       "    </tr>\n",
       "    <tr>\n",
       "      <th>2</th>\n",
       "      <td>0.026853</td>\n",
       "      <td>0.028229</td>\n",
       "      <td>0.055169</td>\n",
       "      <td>-0.038870</td>\n",
       "      <td>-0.002899</td>\n",
       "      <td>0.005762</td>\n",
       "      <td>0.015915</td>\n",
       "      <td>0.144610</td>\n",
       "      <td>0.079669</td>\n",
       "      <td>0.085780</td>\n",
       "      <td>...</td>\n",
       "      <td>0.175210</td>\n",
       "      <td>0.255054</td>\n",
       "      <td>0.098703</td>\n",
       "      <td>-0.001271</td>\n",
       "      <td>0.056045</td>\n",
       "      <td>0.127381</td>\n",
       "      <td>0.209216</td>\n",
       "      <td>0.126920</td>\n",
       "      <td>-0.070844</td>\n",
       "      <td>0.047088</td>\n",
       "    </tr>\n",
       "  </tbody>\n",
       "</table>\n",
       "<p>2 rows × 5000 columns</p>\n",
       "</div>"
      ],
      "text/plain": [
       "   202291    397896    420647    480014    545926    707683    731106    \\\n",
       "1  0.067055  0.433216 -0.033046 -0.065813 -0.025529  0.020166  0.107086   \n",
       "2  0.026853  0.028229  0.055169 -0.038870 -0.002899  0.005762  0.015915   \n",
       "\n",
       "   818980    819063    819255    ...  15511891  15596279  15596488  15596515  \\\n",
       "1  0.752276  0.446219  0.315361  ...  0.318527  0.211592  0.272231  0.256608   \n",
       "2  0.144610  0.079669  0.085780  ...  0.175210  0.255054  0.098703 -0.001271   \n",
       "\n",
       "   15778533  15926844  15926886  15927403  15927661  15927850  \n",
       "1  0.608950  0.232541  0.179535  0.438885  0.192917  0.546211  \n",
       "2  0.056045  0.127381  0.209216  0.126920 -0.070844  0.047088  \n",
       "\n",
       "[2 rows x 5000 columns]"
      ]
     },
     "execution_count": 30,
     "metadata": {},
     "output_type": "execute_result"
    }
   ],
   "source": [
    "df_als_predictions.head(2)"
   ]
  },
  {
   "cell_type": "code",
   "execution_count": 31,
   "metadata": {},
   "outputs": [],
   "source": [
    "df_best500 = []\n",
    "for x in df_als_predictions.index:\n",
    "    df_best500.append([(df_als_predictions.loc[x].sort_values(ascending=False).index.values[:50])])\n",
    "    "
   ]
  },
  {
   "cell_type": "code",
   "execution_count": 32,
   "metadata": {},
   "outputs": [
    {
     "data": {
      "text/plain": [
       "(2484, 1, 50)"
      ]
     },
     "execution_count": 32,
     "metadata": {},
     "output_type": "execute_result"
    }
   ],
   "source": [
    "np.shape(df_best500)"
   ]
  },
  {
   "cell_type": "code",
   "execution_count": 33,
   "metadata": {},
   "outputs": [],
   "source": [
    "df_best50 = pd.DataFrame(df_best500, index=df_als_predictions.index, columns=['rec_50'])"
   ]
  },
  {
   "cell_type": "code",
   "execution_count": 177,
   "metadata": {},
   "outputs": [],
   "source": [
    "r = result_lvl_1.join(df_best50, on=['user_id'], how='left')"
   ]
  },
  {
   "cell_type": "code",
   "execution_count": 178,
   "metadata": {},
   "outputs": [
    {
     "data": {
      "text/html": [
       "<div>\n",
       "<style scoped>\n",
       "    .dataframe tbody tr th:only-of-type {\n",
       "        vertical-align: middle;\n",
       "    }\n",
       "\n",
       "    .dataframe tbody tr th {\n",
       "        vertical-align: top;\n",
       "    }\n",
       "\n",
       "    .dataframe thead th {\n",
       "        text-align: right;\n",
       "    }\n",
       "</style>\n",
       "<table border=\"1\" class=\"dataframe\">\n",
       "  <thead>\n",
       "    <tr style=\"text-align: right;\">\n",
       "      <th></th>\n",
       "      <th>user_id</th>\n",
       "      <th>actual</th>\n",
       "      <th>recalc_500</th>\n",
       "      <th>rec_50</th>\n",
       "    </tr>\n",
       "  </thead>\n",
       "  <tbody>\n",
       "    <tr>\n",
       "      <th>0</th>\n",
       "      <td>1</td>\n",
       "      <td>[853529, 865456, 867607, 872137, 874905, 87524...</td>\n",
       "      <td>[1062572, 1028166, 1059930, 1082185, 856942, 9...</td>\n",
       "      <td>[1104349, 1062572, 982960, 1046816, 1100972, 8...</td>\n",
       "    </tr>\n",
       "    <tr>\n",
       "      <th>1</th>\n",
       "      <td>2</td>\n",
       "      <td>[15830248, 838136, 839656, 861272, 866211, 870...</td>\n",
       "      <td>[834484, 1082185, 5569230, 1041259, 916122, 90...</td>\n",
       "      <td>[5569230, 1082185, 1041259, 854852, 916122, 90...</td>\n",
       "    </tr>\n",
       "    <tr>\n",
       "      <th>2</th>\n",
       "      <td>4</td>\n",
       "      <td>[883932, 970760, 1035676, 1055863, 1097610, 67...</td>\n",
       "      <td>[891423, 951590, 902172, 883932, 846550, 80905...</td>\n",
       "      <td>[951590, 1119454, 902172, 883932, 846550, 8914...</td>\n",
       "    </tr>\n",
       "    <tr>\n",
       "      <th>3</th>\n",
       "      <td>6</td>\n",
       "      <td>[1024306, 1102949, 6548453, 835394, 940804, 96...</td>\n",
       "      <td>[1082185, 878996, 857006, 965267, 1127831, 102...</td>\n",
       "      <td>[1082185, 878996, 965267, 930118, 1024306, 112...</td>\n",
       "    </tr>\n",
       "    <tr>\n",
       "      <th>4</th>\n",
       "      <td>7</td>\n",
       "      <td>[836281, 843306, 845294, 914190, 920456, 93886...</td>\n",
       "      <td>[853643, 5588238, 1003188, 5584645, 5587043, 5...</td>\n",
       "      <td>[857390, 853643, 938187, 1052046, 1082185, 112...</td>\n",
       "    </tr>\n",
       "    <tr>\n",
       "      <th>...</th>\n",
       "      <td>...</td>\n",
       "      <td>...</td>\n",
       "      <td>...</td>\n",
       "      <td>...</td>\n",
       "    </tr>\n",
       "    <tr>\n",
       "      <th>2149</th>\n",
       "      <td>2496</td>\n",
       "      <td>[831509, 867188, 1013623, 1048851, 5592734, 16...</td>\n",
       "      <td>[1004906, 844179, 831628, 1020581, 12810393, 1...</td>\n",
       "      <td>[844179, 1004906, 1020581, 12810393, 1044078, ...</td>\n",
       "    </tr>\n",
       "    <tr>\n",
       "      <th>2150</th>\n",
       "      <td>2497</td>\n",
       "      <td>[820291, 824759, 838797, 859010, 859075, 86077...</td>\n",
       "      <td>[1098066, 826249, 981760, 5569230, 904360, 899...</td>\n",
       "      <td>[1098066, 826249, 981760, 5569230, 899624, 904...</td>\n",
       "    </tr>\n",
       "    <tr>\n",
       "      <th>2151</th>\n",
       "      <td>2498</td>\n",
       "      <td>[865511, 962991, 1076374, 1102358, 5564901, 15...</td>\n",
       "      <td>[997796, 886787, 1133072, 830503, 892844, 8551...</td>\n",
       "      <td>[886787, 1133072, 1077490, 997796, 916122, 892...</td>\n",
       "    </tr>\n",
       "    <tr>\n",
       "      <th>2152</th>\n",
       "      <td>2499</td>\n",
       "      <td>[861282, 921744, 1050968, 13842089, 828837, 86...</td>\n",
       "      <td>[826249, 883404, 1098066, 929668, 822407, 1029...</td>\n",
       "      <td>[883404, 826249, 1098066, 893018, 1096036, 907...</td>\n",
       "    </tr>\n",
       "    <tr>\n",
       "      <th>2153</th>\n",
       "      <td>2500</td>\n",
       "      <td>[856455, 902192, 903476, 931672, 936634, 95170...</td>\n",
       "      <td>[6534178, 873527, 1135959, 1019286, 890455, 10...</td>\n",
       "      <td>[6534178, 890455, 1135959, 1019286, 837098, 84...</td>\n",
       "    </tr>\n",
       "  </tbody>\n",
       "</table>\n",
       "<p>2154 rows × 4 columns</p>\n",
       "</div>"
      ],
      "text/plain": [
       "      user_id                                             actual  \\\n",
       "0           1  [853529, 865456, 867607, 872137, 874905, 87524...   \n",
       "1           2  [15830248, 838136, 839656, 861272, 866211, 870...   \n",
       "2           4  [883932, 970760, 1035676, 1055863, 1097610, 67...   \n",
       "3           6  [1024306, 1102949, 6548453, 835394, 940804, 96...   \n",
       "4           7  [836281, 843306, 845294, 914190, 920456, 93886...   \n",
       "...       ...                                                ...   \n",
       "2149     2496  [831509, 867188, 1013623, 1048851, 5592734, 16...   \n",
       "2150     2497  [820291, 824759, 838797, 859010, 859075, 86077...   \n",
       "2151     2498  [865511, 962991, 1076374, 1102358, 5564901, 15...   \n",
       "2152     2499  [861282, 921744, 1050968, 13842089, 828837, 86...   \n",
       "2153     2500  [856455, 902192, 903476, 931672, 936634, 95170...   \n",
       "\n",
       "                                             recalc_500  \\\n",
       "0     [1062572, 1028166, 1059930, 1082185, 856942, 9...   \n",
       "1     [834484, 1082185, 5569230, 1041259, 916122, 90...   \n",
       "2     [891423, 951590, 902172, 883932, 846550, 80905...   \n",
       "3     [1082185, 878996, 857006, 965267, 1127831, 102...   \n",
       "4     [853643, 5588238, 1003188, 5584645, 5587043, 5...   \n",
       "...                                                 ...   \n",
       "2149  [1004906, 844179, 831628, 1020581, 12810393, 1...   \n",
       "2150  [1098066, 826249, 981760, 5569230, 904360, 899...   \n",
       "2151  [997796, 886787, 1133072, 830503, 892844, 8551...   \n",
       "2152  [826249, 883404, 1098066, 929668, 822407, 1029...   \n",
       "2153  [6534178, 873527, 1135959, 1019286, 890455, 10...   \n",
       "\n",
       "                                                 rec_50  \n",
       "0     [1104349, 1062572, 982960, 1046816, 1100972, 8...  \n",
       "1     [5569230, 1082185, 1041259, 854852, 916122, 90...  \n",
       "2     [951590, 1119454, 902172, 883932, 846550, 8914...  \n",
       "3     [1082185, 878996, 965267, 930118, 1024306, 112...  \n",
       "4     [857390, 853643, 938187, 1052046, 1082185, 112...  \n",
       "...                                                 ...  \n",
       "2149  [844179, 1004906, 1020581, 12810393, 1044078, ...  \n",
       "2150  [1098066, 826249, 981760, 5569230, 899624, 904...  \n",
       "2151  [886787, 1133072, 1077490, 997796, 916122, 892...  \n",
       "2152  [883404, 826249, 1098066, 893018, 1096036, 907...  \n",
       "2153  [6534178, 890455, 1135959, 1019286, 837098, 84...  \n",
       "\n",
       "[2154 rows x 4 columns]"
      ]
     },
     "execution_count": 178,
     "metadata": {},
     "output_type": "execute_result"
    }
   ],
   "source": [
    "r"
   ]
  },
  {
   "cell_type": "code",
   "execution_count": 190,
   "metadata": {},
   "outputs": [],
   "source": [
    "pres_users = []\n",
    "for x_user in r['user_id']:\n",
    "    user_pres = precision_at_k(r.loc[r['user_id']== x_user, 'rec_50'].values[0],\n",
    "                               r.loc[r['user_id']== x_user,'actual'].values[0],\n",
    "                               k=5)\n",
    "    pres_users.append(user_pres)"
   ]
  },
  {
   "cell_type": "code",
   "execution_count": 191,
   "metadata": {},
   "outputs": [
    {
     "data": {
      "text/plain": [
       "0.17493036211699164"
      ]
     },
     "execution_count": 191,
     "metadata": {},
     "output_type": "execute_result"
    }
   ],
   "source": [
    "np.mean(pres_users)"
   ]
  },
  {
   "cell_type": "markdown",
   "metadata": {},
   "source": [
    "### predictions on warm users with MainRecommender class method get_als_recommendations()"
   ]
  },
  {
   "cell_type": "code",
   "execution_count": 94,
   "metadata": {},
   "outputs": [],
   "source": [
    "preds_500 = []\n",
    "for x_user in warm_users_1:\n",
    "\n",
    "    preds_500.append([als_model.get_als_recommendations(x_user, N=500)])"
   ]
  },
  {
   "cell_type": "code",
   "execution_count": 102,
   "metadata": {},
   "outputs": [],
   "source": [
    "preds_500 = pd.DataFrame(preds_500, index=warm_users_1, columns=['preds_500'])"
   ]
  },
  {
   "cell_type": "code",
   "execution_count": 103,
   "metadata": {},
   "outputs": [
    {
     "data": {
      "text/html": [
       "<div>\n",
       "<style scoped>\n",
       "    .dataframe tbody tr th:only-of-type {\n",
       "        vertical-align: middle;\n",
       "    }\n",
       "\n",
       "    .dataframe tbody tr th {\n",
       "        vertical-align: top;\n",
       "    }\n",
       "\n",
       "    .dataframe thead th {\n",
       "        text-align: right;\n",
       "    }\n",
       "</style>\n",
       "<table border=\"1\" class=\"dataframe\">\n",
       "  <thead>\n",
       "    <tr style=\"text-align: right;\">\n",
       "      <th></th>\n",
       "      <th>preds_500</th>\n",
       "    </tr>\n",
       "  </thead>\n",
       "  <tbody>\n",
       "    <tr>\n",
       "      <th>1</th>\n",
       "      <td>[1104349, 1062572, 982960, 1046816, 1100972, 8...</td>\n",
       "    </tr>\n",
       "    <tr>\n",
       "      <th>2</th>\n",
       "      <td>[5569230, 1082185, 1041259, 854852, 916122, 90...</td>\n",
       "    </tr>\n",
       "  </tbody>\n",
       "</table>\n",
       "</div>"
      ],
      "text/plain": [
       "                                           preds_500\n",
       "1  [1104349, 1062572, 982960, 1046816, 1100972, 8...\n",
       "2  [5569230, 1082185, 1041259, 854852, 916122, 90..."
      ]
     },
     "execution_count": 103,
     "metadata": {},
     "output_type": "execute_result"
    }
   ],
   "source": [
    "preds_500.head(2)"
   ]
  },
  {
   "cell_type": "code",
   "execution_count": 179,
   "metadata": {},
   "outputs": [],
   "source": [
    "r = r.join(preds_500, on=['user_id'], how='left')"
   ]
  },
  {
   "cell_type": "code",
   "execution_count": 180,
   "metadata": {},
   "outputs": [
    {
     "data": {
      "text/html": [
       "<div>\n",
       "<style scoped>\n",
       "    .dataframe tbody tr th:only-of-type {\n",
       "        vertical-align: middle;\n",
       "    }\n",
       "\n",
       "    .dataframe tbody tr th {\n",
       "        vertical-align: top;\n",
       "    }\n",
       "\n",
       "    .dataframe thead th {\n",
       "        text-align: right;\n",
       "    }\n",
       "</style>\n",
       "<table border=\"1\" class=\"dataframe\">\n",
       "  <thead>\n",
       "    <tr style=\"text-align: right;\">\n",
       "      <th></th>\n",
       "      <th>user_id</th>\n",
       "      <th>actual</th>\n",
       "      <th>recalc_500</th>\n",
       "      <th>rec_50</th>\n",
       "      <th>preds_500</th>\n",
       "    </tr>\n",
       "  </thead>\n",
       "  <tbody>\n",
       "    <tr>\n",
       "      <th>49</th>\n",
       "      <td>62</td>\n",
       "      <td>[42100, 85232, 112613, 328972, 7414659, 741508...</td>\n",
       "      <td>[1005902, 13008223, 949991, 901916, 1067779, 8...</td>\n",
       "      <td>NaN</td>\n",
       "      <td>NaN</td>\n",
       "    </tr>\n",
       "  </tbody>\n",
       "</table>\n",
       "</div>"
      ],
      "text/plain": [
       "    user_id                                             actual  \\\n",
       "49       62  [42100, 85232, 112613, 328972, 7414659, 741508...   \n",
       "\n",
       "                                           recalc_500 rec_50 preds_500  \n",
       "49  [1005902, 13008223, 949991, 901916, 1067779, 8...    NaN       NaN  "
      ]
     },
     "execution_count": 180,
     "metadata": {},
     "output_type": "execute_result"
    }
   ],
   "source": [
    "r.loc[r['user_id']==62,:]"
   ]
  },
  {
   "cell_type": "code",
   "execution_count": 169,
   "metadata": {},
   "outputs": [],
   "source": [
    "from utils import cold_user_recommend"
   ]
  },
  {
   "cell_type": "code",
   "execution_count": 181,
   "metadata": {},
   "outputs": [],
   "source": [
    "r.loc[r['user_id'].isin(cold_users_1),\n",
    "      ['rec_50', 'preds_500']\n",
    "     ] = r['user_id'].apply(lambda x:cold_user_recommend(prefiltered_train_lvl_1, n=50))"
   ]
  },
  {
   "cell_type": "code",
   "execution_count": 182,
   "metadata": {},
   "outputs": [
    {
     "data": {
      "text/html": [
       "<div>\n",
       "<style scoped>\n",
       "    .dataframe tbody tr th:only-of-type {\n",
       "        vertical-align: middle;\n",
       "    }\n",
       "\n",
       "    .dataframe tbody tr th {\n",
       "        vertical-align: top;\n",
       "    }\n",
       "\n",
       "    .dataframe thead th {\n",
       "        text-align: right;\n",
       "    }\n",
       "</style>\n",
       "<table border=\"1\" class=\"dataframe\">\n",
       "  <thead>\n",
       "    <tr style=\"text-align: right;\">\n",
       "      <th></th>\n",
       "      <th>user_id</th>\n",
       "      <th>actual</th>\n",
       "      <th>recalc_500</th>\n",
       "      <th>rec_50</th>\n",
       "      <th>preds_500</th>\n",
       "    </tr>\n",
       "  </thead>\n",
       "  <tbody>\n",
       "    <tr>\n",
       "      <th>49</th>\n",
       "      <td>62</td>\n",
       "      <td>[42100, 85232, 112613, 328972, 7414659, 741508...</td>\n",
       "      <td>[1005902, 13008223, 949991, 901916, 1067779, 8...</td>\n",
       "      <td>[1082185, 6534178, 1029743, 995242, 1106523, 9...</td>\n",
       "      <td>[1082185, 6534178, 1029743, 995242, 1106523, 9...</td>\n",
       "    </tr>\n",
       "  </tbody>\n",
       "</table>\n",
       "</div>"
      ],
      "text/plain": [
       "    user_id                                             actual  \\\n",
       "49       62  [42100, 85232, 112613, 328972, 7414659, 741508...   \n",
       "\n",
       "                                           recalc_500  \\\n",
       "49  [1005902, 13008223, 949991, 901916, 1067779, 8...   \n",
       "\n",
       "                                               rec_50  \\\n",
       "49  [1082185, 6534178, 1029743, 995242, 1106523, 9...   \n",
       "\n",
       "                                            preds_500  \n",
       "49  [1082185, 6534178, 1029743, 995242, 1106523, 9...  "
      ]
     },
     "execution_count": 182,
     "metadata": {},
     "output_type": "execute_result"
    }
   ],
   "source": [
    "r.loc[r['user_id']==62,:]"
   ]
  },
  {
   "cell_type": "code",
   "execution_count": 192,
   "metadata": {},
   "outputs": [],
   "source": [
    "pred_users = []\n",
    "for x_user in r['user_id']:\n",
    "    user_pred = precision_at_k(r.loc[r['user_id']== x_user, 'preds_500'].values[0],\n",
    "                               r.loc[r['user_id']== x_user,'actual'].values[0],\n",
    "                               k=5)\n",
    "    pred_users.append(user_pred)"
   ]
  },
  {
   "cell_type": "code",
   "execution_count": 193,
   "metadata": {},
   "outputs": [
    {
     "data": {
      "text/plain": [
       "0.1745589600742804"
      ]
     },
     "execution_count": 193,
     "metadata": {},
     "output_type": "execute_result"
    }
   ],
   "source": [
    "np.mean(pred_users)"
   ]
  },
  {
   "cell_type": "code",
   "execution_count": 194,
   "metadata": {},
   "outputs": [],
   "source": [
    "# after adding popular items for cold users on matrix multiplication method for warm users\n",
    "pres_users = []\n",
    "for x_user in r['user_id']:\n",
    "    user_pres = precision_at_k(r.loc[r['user_id']== x_user, 'rec_50'].values[0],\n",
    "                               r.loc[r['user_id']== x_user,'actual'].values[0],\n",
    "                               k=5)\n",
    "    pres_users.append(user_pres)"
   ]
  },
  {
   "cell_type": "code",
   "execution_count": 195,
   "metadata": {},
   "outputs": [
    {
     "data": {
      "text/plain": [
       "0.17493036211699164"
      ]
     },
     "execution_count": 195,
     "metadata": {},
     "output_type": "execute_result"
    }
   ],
   "source": [
    "np.mean(pres_users)"
   ]
  },
  {
   "cell_type": "markdown",
   "metadata": {},
   "source": [
    "## 3. Prepare user and item features"
   ]
  },
  {
   "cell_type": "code",
   "execution_count": 196,
   "metadata": {},
   "outputs": [],
   "source": [
    "user_item_lightfm = get_useritem_matrix(user_item_matrix)"
   ]
  },
  {
   "cell_type": "code",
   "execution_count": 197,
   "metadata": {},
   "outputs": [
    {
     "data": {
      "text/plain": [
       "(2484, 5000)"
      ]
     },
     "execution_count": 197,
     "metadata": {},
     "output_type": "execute_result"
    }
   ],
   "source": [
    "user_item_lightfm.shape"
   ]
  },
  {
   "cell_type": "code",
   "execution_count": 202,
   "metadata": {},
   "outputs": [
    {
     "data": {
      "text/html": [
       "<div>\n",
       "<style scoped>\n",
       "    .dataframe tbody tr th:only-of-type {\n",
       "        vertical-align: middle;\n",
       "    }\n",
       "\n",
       "    .dataframe tbody tr th {\n",
       "        vertical-align: top;\n",
       "    }\n",
       "\n",
       "    .dataframe thead th {\n",
       "        text-align: right;\n",
       "    }\n",
       "</style>\n",
       "<table border=\"1\" class=\"dataframe\">\n",
       "  <thead>\n",
       "    <tr style=\"text-align: right;\">\n",
       "      <th></th>\n",
       "      <th>0</th>\n",
       "      <th>1</th>\n",
       "      <th>2</th>\n",
       "      <th>3</th>\n",
       "      <th>4</th>\n",
       "      <th>5</th>\n",
       "      <th>6</th>\n",
       "      <th>7</th>\n",
       "      <th>8</th>\n",
       "      <th>9</th>\n",
       "      <th>10</th>\n",
       "      <th>11</th>\n",
       "      <th>12</th>\n",
       "      <th>13</th>\n",
       "      <th>14</th>\n",
       "      <th>15</th>\n",
       "      <th>16</th>\n",
       "      <th>17</th>\n",
       "      <th>18</th>\n",
       "      <th>19</th>\n",
       "    </tr>\n",
       "    <tr>\n",
       "      <th>user_id</th>\n",
       "      <th></th>\n",
       "      <th></th>\n",
       "      <th></th>\n",
       "      <th></th>\n",
       "      <th></th>\n",
       "      <th></th>\n",
       "      <th></th>\n",
       "      <th></th>\n",
       "      <th></th>\n",
       "      <th></th>\n",
       "      <th></th>\n",
       "      <th></th>\n",
       "      <th></th>\n",
       "      <th></th>\n",
       "      <th></th>\n",
       "      <th></th>\n",
       "      <th></th>\n",
       "      <th></th>\n",
       "      <th></th>\n",
       "      <th></th>\n",
       "    </tr>\n",
       "  </thead>\n",
       "  <tbody>\n",
       "    <tr>\n",
       "      <th>1</th>\n",
       "      <td>15.581522</td>\n",
       "      <td>-6.529871</td>\n",
       "      <td>-3.994627</td>\n",
       "      <td>12.521516</td>\n",
       "      <td>18.642164</td>\n",
       "      <td>7.418461</td>\n",
       "      <td>-2.855771</td>\n",
       "      <td>-0.299411</td>\n",
       "      <td>-0.326062</td>\n",
       "      <td>7.125142</td>\n",
       "      <td>14.174028</td>\n",
       "      <td>1.928531</td>\n",
       "      <td>9.124504</td>\n",
       "      <td>-6.906746</td>\n",
       "      <td>-5.556875</td>\n",
       "      <td>-6.971813</td>\n",
       "      <td>8.089332</td>\n",
       "      <td>-11.332814</td>\n",
       "      <td>-3.438860</td>\n",
       "      <td>-3.547022</td>\n",
       "    </tr>\n",
       "    <tr>\n",
       "      <th>2</th>\n",
       "      <td>2.599997</td>\n",
       "      <td>12.282372</td>\n",
       "      <td>0.262007</td>\n",
       "      <td>2.584871</td>\n",
       "      <td>-1.713634</td>\n",
       "      <td>0.988832</td>\n",
       "      <td>7.818982</td>\n",
       "      <td>4.256641</td>\n",
       "      <td>-1.524778</td>\n",
       "      <td>-1.068416</td>\n",
       "      <td>-3.401285</td>\n",
       "      <td>3.296885</td>\n",
       "      <td>-1.044344</td>\n",
       "      <td>1.309689</td>\n",
       "      <td>-2.665504</td>\n",
       "      <td>2.716805</td>\n",
       "      <td>-0.108924</td>\n",
       "      <td>1.527397</td>\n",
       "      <td>4.022652</td>\n",
       "      <td>2.663080</td>\n",
       "    </tr>\n",
       "    <tr>\n",
       "      <th>3</th>\n",
       "      <td>-4.126503</td>\n",
       "      <td>8.684353</td>\n",
       "      <td>14.234260</td>\n",
       "      <td>5.696541</td>\n",
       "      <td>5.172974</td>\n",
       "      <td>0.377494</td>\n",
       "      <td>1.519951</td>\n",
       "      <td>-5.236134</td>\n",
       "      <td>4.108080</td>\n",
       "      <td>4.045520</td>\n",
       "      <td>-7.707074</td>\n",
       "      <td>0.853328</td>\n",
       "      <td>-2.939811</td>\n",
       "      <td>4.524196</td>\n",
       "      <td>-4.672180</td>\n",
       "      <td>11.550902</td>\n",
       "      <td>-5.772165</td>\n",
       "      <td>1.488417</td>\n",
       "      <td>11.340249</td>\n",
       "      <td>1.602969</td>\n",
       "    </tr>\n",
       "    <tr>\n",
       "      <th>4</th>\n",
       "      <td>4.595743</td>\n",
       "      <td>12.284838</td>\n",
       "      <td>1.646260</td>\n",
       "      <td>-0.917705</td>\n",
       "      <td>4.230337</td>\n",
       "      <td>0.349982</td>\n",
       "      <td>-6.109206</td>\n",
       "      <td>-4.053372</td>\n",
       "      <td>2.293658</td>\n",
       "      <td>3.455180</td>\n",
       "      <td>7.119060</td>\n",
       "      <td>5.386809</td>\n",
       "      <td>0.925491</td>\n",
       "      <td>-4.690211</td>\n",
       "      <td>-6.920101</td>\n",
       "      <td>3.548552</td>\n",
       "      <td>-4.951610</td>\n",
       "      <td>-1.490997</td>\n",
       "      <td>-0.654127</td>\n",
       "      <td>1.282208</td>\n",
       "    </tr>\n",
       "    <tr>\n",
       "      <th>5</th>\n",
       "      <td>4.980502</td>\n",
       "      <td>1.583530</td>\n",
       "      <td>-0.158296</td>\n",
       "      <td>-0.487368</td>\n",
       "      <td>-3.201267</td>\n",
       "      <td>-2.079031</td>\n",
       "      <td>3.446626</td>\n",
       "      <td>-1.602857</td>\n",
       "      <td>0.664324</td>\n",
       "      <td>4.149937</td>\n",
       "      <td>1.772141</td>\n",
       "      <td>1.140545</td>\n",
       "      <td>-2.902359</td>\n",
       "      <td>-3.151944</td>\n",
       "      <td>2.824872</td>\n",
       "      <td>-0.227690</td>\n",
       "      <td>0.340443</td>\n",
       "      <td>3.912955</td>\n",
       "      <td>0.398144</td>\n",
       "      <td>2.485687</td>\n",
       "    </tr>\n",
       "    <tr>\n",
       "      <th>...</th>\n",
       "      <td>...</td>\n",
       "      <td>...</td>\n",
       "      <td>...</td>\n",
       "      <td>...</td>\n",
       "      <td>...</td>\n",
       "      <td>...</td>\n",
       "      <td>...</td>\n",
       "      <td>...</td>\n",
       "      <td>...</td>\n",
       "      <td>...</td>\n",
       "      <td>...</td>\n",
       "      <td>...</td>\n",
       "      <td>...</td>\n",
       "      <td>...</td>\n",
       "      <td>...</td>\n",
       "      <td>...</td>\n",
       "      <td>...</td>\n",
       "      <td>...</td>\n",
       "      <td>...</td>\n",
       "      <td>...</td>\n",
       "    </tr>\n",
       "    <tr>\n",
       "      <th>2496</th>\n",
       "      <td>-4.825225</td>\n",
       "      <td>9.833871</td>\n",
       "      <td>-4.655272</td>\n",
       "      <td>8.854790</td>\n",
       "      <td>-0.612474</td>\n",
       "      <td>-2.970947</td>\n",
       "      <td>-1.841635</td>\n",
       "      <td>6.360375</td>\n",
       "      <td>-3.907779</td>\n",
       "      <td>6.087454</td>\n",
       "      <td>-7.599280</td>\n",
       "      <td>3.421873</td>\n",
       "      <td>14.345769</td>\n",
       "      <td>16.142994</td>\n",
       "      <td>-12.813449</td>\n",
       "      <td>-4.029080</td>\n",
       "      <td>-0.449359</td>\n",
       "      <td>5.375606</td>\n",
       "      <td>9.768623</td>\n",
       "      <td>10.730615</td>\n",
       "    </tr>\n",
       "    <tr>\n",
       "      <th>2497</th>\n",
       "      <td>-5.425889</td>\n",
       "      <td>12.206191</td>\n",
       "      <td>-8.521992</td>\n",
       "      <td>2.686005</td>\n",
       "      <td>6.384798</td>\n",
       "      <td>-2.610064</td>\n",
       "      <td>-9.652563</td>\n",
       "      <td>7.220903</td>\n",
       "      <td>8.167014</td>\n",
       "      <td>8.603769</td>\n",
       "      <td>3.084367</td>\n",
       "      <td>11.089072</td>\n",
       "      <td>1.237886</td>\n",
       "      <td>-7.121723</td>\n",
       "      <td>-6.773473</td>\n",
       "      <td>1.728604</td>\n",
       "      <td>7.297579</td>\n",
       "      <td>15.092903</td>\n",
       "      <td>0.099864</td>\n",
       "      <td>11.114884</td>\n",
       "    </tr>\n",
       "    <tr>\n",
       "      <th>2498</th>\n",
       "      <td>7.873752</td>\n",
       "      <td>1.468086</td>\n",
       "      <td>-3.000242</td>\n",
       "      <td>4.146648</td>\n",
       "      <td>-0.107880</td>\n",
       "      <td>5.077385</td>\n",
       "      <td>8.988994</td>\n",
       "      <td>-4.947285</td>\n",
       "      <td>1.916243</td>\n",
       "      <td>7.245810</td>\n",
       "      <td>9.046992</td>\n",
       "      <td>10.661127</td>\n",
       "      <td>-0.491600</td>\n",
       "      <td>6.086973</td>\n",
       "      <td>-7.389084</td>\n",
       "      <td>-1.889871</td>\n",
       "      <td>-4.206307</td>\n",
       "      <td>0.254177</td>\n",
       "      <td>2.291394</td>\n",
       "      <td>-3.533971</td>\n",
       "    </tr>\n",
       "    <tr>\n",
       "      <th>2499</th>\n",
       "      <td>-2.004892</td>\n",
       "      <td>5.198688</td>\n",
       "      <td>8.017133</td>\n",
       "      <td>0.524104</td>\n",
       "      <td>4.902006</td>\n",
       "      <td>7.595265</td>\n",
       "      <td>1.210670</td>\n",
       "      <td>-7.312312</td>\n",
       "      <td>12.948181</td>\n",
       "      <td>2.445407</td>\n",
       "      <td>-4.999979</td>\n",
       "      <td>3.533188</td>\n",
       "      <td>-0.459178</td>\n",
       "      <td>1.066214</td>\n",
       "      <td>-2.695649</td>\n",
       "      <td>-1.214589</td>\n",
       "      <td>-6.902646</td>\n",
       "      <td>7.675630</td>\n",
       "      <td>9.880346</td>\n",
       "      <td>4.597683</td>\n",
       "    </tr>\n",
       "    <tr>\n",
       "      <th>2500</th>\n",
       "      <td>3.256960</td>\n",
       "      <td>-6.028462</td>\n",
       "      <td>3.951505</td>\n",
       "      <td>1.652849</td>\n",
       "      <td>4.755738</td>\n",
       "      <td>-11.043480</td>\n",
       "      <td>5.500189</td>\n",
       "      <td>2.456933</td>\n",
       "      <td>-5.952374</td>\n",
       "      <td>0.876681</td>\n",
       "      <td>14.255260</td>\n",
       "      <td>-3.064096</td>\n",
       "      <td>16.854239</td>\n",
       "      <td>5.522659</td>\n",
       "      <td>9.172126</td>\n",
       "      <td>-3.239030</td>\n",
       "      <td>-3.775272</td>\n",
       "      <td>1.559844</td>\n",
       "      <td>7.350908</td>\n",
       "      <td>5.587075</td>\n",
       "    </tr>\n",
       "  </tbody>\n",
       "</table>\n",
       "<p>2484 rows × 20 columns</p>\n",
       "</div>"
      ],
      "text/plain": [
       "                 0          1          2          3          4          5  \\\n",
       "user_id                                                                     \n",
       "1        15.581522  -6.529871  -3.994627  12.521516  18.642164   7.418461   \n",
       "2         2.599997  12.282372   0.262007   2.584871  -1.713634   0.988832   \n",
       "3        -4.126503   8.684353  14.234260   5.696541   5.172974   0.377494   \n",
       "4         4.595743  12.284838   1.646260  -0.917705   4.230337   0.349982   \n",
       "5         4.980502   1.583530  -0.158296  -0.487368  -3.201267  -2.079031   \n",
       "...            ...        ...        ...        ...        ...        ...   \n",
       "2496     -4.825225   9.833871  -4.655272   8.854790  -0.612474  -2.970947   \n",
       "2497     -5.425889  12.206191  -8.521992   2.686005   6.384798  -2.610064   \n",
       "2498      7.873752   1.468086  -3.000242   4.146648  -0.107880   5.077385   \n",
       "2499     -2.004892   5.198688   8.017133   0.524104   4.902006   7.595265   \n",
       "2500      3.256960  -6.028462   3.951505   1.652849   4.755738 -11.043480   \n",
       "\n",
       "                6         7          8         9         10         11  \\\n",
       "user_id                                                                  \n",
       "1       -2.855771 -0.299411  -0.326062  7.125142  14.174028   1.928531   \n",
       "2        7.818982  4.256641  -1.524778 -1.068416  -3.401285   3.296885   \n",
       "3        1.519951 -5.236134   4.108080  4.045520  -7.707074   0.853328   \n",
       "4       -6.109206 -4.053372   2.293658  3.455180   7.119060   5.386809   \n",
       "5        3.446626 -1.602857   0.664324  4.149937   1.772141   1.140545   \n",
       "...           ...       ...        ...       ...        ...        ...   \n",
       "2496    -1.841635  6.360375  -3.907779  6.087454  -7.599280   3.421873   \n",
       "2497    -9.652563  7.220903   8.167014  8.603769   3.084367  11.089072   \n",
       "2498     8.988994 -4.947285   1.916243  7.245810   9.046992  10.661127   \n",
       "2499     1.210670 -7.312312  12.948181  2.445407  -4.999979   3.533188   \n",
       "2500     5.500189  2.456933  -5.952374  0.876681  14.255260  -3.064096   \n",
       "\n",
       "                12         13         14         15        16         17  \\\n",
       "user_id                                                                    \n",
       "1         9.124504  -6.906746  -5.556875  -6.971813  8.089332 -11.332814   \n",
       "2        -1.044344   1.309689  -2.665504   2.716805 -0.108924   1.527397   \n",
       "3        -2.939811   4.524196  -4.672180  11.550902 -5.772165   1.488417   \n",
       "4         0.925491  -4.690211  -6.920101   3.548552 -4.951610  -1.490997   \n",
       "5        -2.902359  -3.151944   2.824872  -0.227690  0.340443   3.912955   \n",
       "...            ...        ...        ...        ...       ...        ...   \n",
       "2496     14.345769  16.142994 -12.813449  -4.029080 -0.449359   5.375606   \n",
       "2497      1.237886  -7.121723  -6.773473   1.728604  7.297579  15.092903   \n",
       "2498     -0.491600   6.086973  -7.389084  -1.889871 -4.206307   0.254177   \n",
       "2499     -0.459178   1.066214  -2.695649  -1.214589 -6.902646   7.675630   \n",
       "2500     16.854239   5.522659   9.172126  -3.239030 -3.775272   1.559844   \n",
       "\n",
       "                18         19  \n",
       "user_id                        \n",
       "1        -3.438860  -3.547022  \n",
       "2         4.022652   2.663080  \n",
       "3        11.340249   1.602969  \n",
       "4        -0.654127   1.282208  \n",
       "5         0.398144   2.485687  \n",
       "...            ...        ...  \n",
       "2496      9.768623  10.730615  \n",
       "2497      0.099864  11.114884  \n",
       "2498      2.291394  -3.533971  \n",
       "2499      9.880346   4.597683  \n",
       "2500      7.350908   5.587075  \n",
       "\n",
       "[2484 rows x 20 columns]"
      ]
     },
     "execution_count": 202,
     "metadata": {},
     "output_type": "execute_result"
    }
   ],
   "source": [
    "user_factors"
   ]
  },
  {
   "cell_type": "code",
   "execution_count": null,
   "metadata": {},
   "outputs": [],
   "source": [
    "user_features_lightfm = get_user_matrix(prefiltered_train_lvl_1, user_features, user_factors)"
   ]
  },
  {
   "cell_type": "code",
   "execution_count": null,
   "metadata": {},
   "outputs": [],
   "source": [
    "user_features_lightfm.describe()"
   ]
  },
  {
   "cell_type": "code",
   "execution_count": null,
   "metadata": {},
   "outputs": [],
   "source": [
    "user_features_lightfm.shape"
   ]
  },
  {
   "cell_type": "code",
   "execution_count": null,
   "metadata": {},
   "outputs": [],
   "source": [
    "item_features_lightfm = get_item_matrix(prefiltered_train_lvl_1, item_features, item_factors)"
   ]
  },
  {
   "cell_type": "code",
   "execution_count": null,
   "metadata": {},
   "outputs": [],
   "source": [
    "item_features_lightfm.shape"
   ]
  },
  {
   "cell_type": "code",
   "execution_count": null,
   "metadata": {},
   "outputs": [],
   "source": [
    "item_features_lightfm.head(2)"
   ]
  },
  {
   "cell_type": "code",
   "execution_count": null,
   "metadata": {},
   "outputs": [],
   "source": [
    "# np.array_equal(coo_matrix(user_item_lightfm).col, coo_matrix(df_test).col)"
   ]
  },
  {
   "cell_type": "markdown",
   "metadata": {},
   "source": [
    "### Normalizing data"
   ]
  },
  {
   "cell_type": "code",
   "execution_count": null,
   "metadata": {},
   "outputs": [],
   "source": [
    "scaler = preprocessing.MinMaxScaler()"
   ]
  },
  {
   "cell_type": "code",
   "execution_count": null,
   "metadata": {},
   "outputs": [],
   "source": [
    "def scaling_data(scaler, data_matrix):\n",
    "    matrix_copy = data_matrix.copy()\n",
    "    cols = matrix_copy.columns\n",
    "    ind = matrix_copy.index\n",
    "    d = scaler.fit_transform(matrix_copy)\n",
    "    scaled_df = pd.DataFrame(d, index=ind, columns=cols)\n",
    "    \n",
    "    return scaled_df"
   ]
  },
  {
   "cell_type": "code",
   "execution_count": null,
   "metadata": {},
   "outputs": [],
   "source": [
    "scaled_item_features = scaling_data(scaler, item_features_lightfm)"
   ]
  },
  {
   "cell_type": "code",
   "execution_count": null,
   "metadata": {},
   "outputs": [],
   "source": [
    "scaled_user_features = scaling_data(scaler, user_features_lightfm)"
   ]
  },
  {
   "cell_type": "code",
   "execution_count": null,
   "metadata": {},
   "outputs": [],
   "source": [
    "scaled_user_item = scaling_data(scaler, user_item_matrix)"
   ]
  },
  {
   "cell_type": "code",
   "execution_count": null,
   "metadata": {},
   "outputs": [],
   "source": [
    "item_features"
   ]
  },
  {
   "cell_type": "code",
   "execution_count": null,
   "metadata": {},
   "outputs": [],
   "source": [
    "scaled_user_item.info()"
   ]
  },
  {
   "cell_type": "code",
   "execution_count": null,
   "metadata": {},
   "outputs": [],
   "source": [
    "scaled_user_item"
   ]
  },
  {
   "cell_type": "code",
   "execution_count": null,
   "metadata": {},
   "outputs": [],
   "source": [
    "model = LightFM(no_components=10,\n",
    "                loss='bpr',\n",
    "                learning_rate=0.005, \n",
    "                item_alpha=0.001,\n",
    "                user_alpha=0.001, \n",
    "                random_state=42)\n",
    "\n",
    "model.fit(coo_matrix(user_item_lightfm),\n",
    "          user_features=csr_matrix(scaled_user_features.values).tocsr(),\n",
    "          item_features=csr_matrix(scaled_item_features.values).tocsr(),\n",
    "#          sample_weight=coo_matrix(scaled_user_item),\n",
    "          epochs=10, \n",
    "          num_threads=1) "
   ]
  },
  {
   "cell_type": "code",
   "execution_count": null,
   "metadata": {},
   "outputs": [],
   "source": [
    "#%%time\n",
    "#gbm = GridSearchCV(model, param_grid, cv=5, n_jobs=-1, scoring='top_k_accuracy')\n",
    "#gbm.fit(coo_matrix(user_item_matrix))\n",
    "\n",
    "#print('Best parameters found by grid search are:', gbm.best_params_)"
   ]
  },
  {
   "cell_type": "code",
   "execution_count": null,
   "metadata": {},
   "outputs": [],
   "source": [
    "user_bias, user_prop = model.get_user_representations(features=csr_matrix(scaled_user_features.values).tocsr())"
   ]
  },
  {
   "cell_type": "code",
   "execution_count": null,
   "metadata": {},
   "outputs": [],
   "source": [
    "item_bias, item_prop = model.get_item_representations(features=csr_matrix(scaled_item_features.values).tocsr())"
   ]
  },
  {
   "cell_type": "code",
   "execution_count": null,
   "metadata": {},
   "outputs": [],
   "source": [
    "item_prop"
   ]
  },
  {
   "cell_type": "markdown",
   "metadata": {},
   "source": [
    "'''item_reps = np.concatenate((item_prop, np.ones((item_bias.shape[0], 1))), axis=1)\n",
    "item_reps = np.concatenate((item_reps, item_bias.reshape(-1, 1)), axis=1)\n",
    "\n",
    "user_reps = np.concatenate((user_prop, user_bias.reshape(-1, 1)), axis=1)\n",
    "user_reps = np.concatenate((user_reps, np.ones((user_bias.shape[0], 1))), axis=1)\n",
    "user_item_scores = user_reps.dot(item_reps.T)\n",
    "'''"
   ]
  },
  {
   "cell_type": "code",
   "execution_count": null,
   "metadata": {},
   "outputs": [],
   "source": [
    "user_item_scores = user_prop.dot(item_prop.T)"
   ]
  },
  {
   "cell_type": "code",
   "execution_count": null,
   "metadata": {},
   "outputs": [],
   "source": [
    "df_user_item_scores = pd.DataFrame(user_item_scores, index=user_item_matrix.index, columns=user_item_matrix.columns)"
   ]
  },
  {
   "cell_type": "code",
   "execution_count": null,
   "metadata": {},
   "outputs": [],
   "source": [
    "df_user_item_scores"
   ]
  },
  {
   "cell_type": "code",
   "execution_count": null,
   "metadata": {},
   "outputs": [],
   "source": [
    "df_best50_scores = pd.DataFrame([[list(df_user_item_scores.loc[x].sort_values(ascending=False).index[:50])] for x in df_user_item_scores.index],\n",
    "                                index=df_user_item_scores.index, columns=['rec_50'])"
   ]
  },
  {
   "cell_type": "code",
   "execution_count": null,
   "metadata": {},
   "outputs": [],
   "source": [
    "list(df_user_item_scores.loc[158].sort_values(ascending=False).index[:5])"
   ]
  },
  {
   "cell_type": "code",
   "execution_count": null,
   "metadata": {},
   "outputs": [],
   "source": [
    "list(df_user_item_scores.loc[1158].sort_values(ascending=False).index[:5])"
   ]
  },
  {
   "cell_type": "code",
   "execution_count": null,
   "metadata": {},
   "outputs": [],
   "source": [
    "list(df_user_item_scores.loc[1792].sort_values(ascending=False).index[:5])"
   ]
  },
  {
   "cell_type": "code",
   "execution_count": null,
   "metadata": {},
   "outputs": [],
   "source": [
    "list(df_user_item_scores.loc[2158].sort_values(ascending=False).index[:5])"
   ]
  },
  {
   "cell_type": "code",
   "execution_count": null,
   "metadata": {},
   "outputs": [],
   "source": [
    "type(df_best50_scores['rec_50'][1][5])"
   ]
  },
  {
   "cell_type": "code",
   "execution_count": null,
   "metadata": {},
   "outputs": [],
   "source": [
    "result_lvl_1_best50 = result_lvl_1.join(df_best50_scores, on=['user_id'], how='left')"
   ]
  },
  {
   "cell_type": "code",
   "execution_count": null,
   "metadata": {},
   "outputs": [],
   "source": [
    "result_lvl_1_best50"
   ]
  },
  {
   "cell_type": "code",
   "execution_count": null,
   "metadata": {},
   "outputs": [],
   "source": [
    "#result_lvl_1.loc[~result_lvl_1['user_id']==cold_users,:]"
   ]
  },
  {
   "cell_type": "code",
   "execution_count": null,
   "metadata": {},
   "outputs": [],
   "source": [
    "result_lvl_1_best50.columns = ['user_id', 'actual', 'recalc_500', 'rec_50']"
   ]
  },
  {
   "cell_type": "code",
   "execution_count": null,
   "metadata": {},
   "outputs": [],
   "source": [
    "result_lvl_1_best50"
   ]
  },
  {
   "cell_type": "code",
   "execution_count": null,
   "metadata": {},
   "outputs": [],
   "source": [
    "result_lvl_1_best50.apply(lambda row: recall_at_k(row['recalc_500'], row['actual'], k=5), axis=1).mean()"
   ]
  },
  {
   "cell_type": "code",
   "execution_count": null,
   "metadata": {},
   "outputs": [],
   "source": [
    "result_lvl_1.apply(lambda row: precision_at_k(row['recalc_500'], row['actual'], k=5), axis=1).mean()"
   ]
  },
  {
   "cell_type": "code",
   "execution_count": null,
   "metadata": {},
   "outputs": [],
   "source": [
    "result_lvl_1_best50.apply(lambda row: recall_at_k(row['rec50'], row['actual'], k=5), axis=1).mean()"
   ]
  },
  {
   "cell_type": "code",
   "execution_count": null,
   "metadata": {},
   "outputs": [],
   "source": [
    "result_als = pd.read_csv('../hmw/als_test_r.csv', index_col=0)\n",
    "result_als.head(2)"
   ]
  },
  {
   "cell_type": "code",
   "execution_count": null,
   "metadata": {},
   "outputs": [],
   "source": [
    "num_candidates = [20, 50, 100, 200, 500]"
   ]
  },
  {
   "cell_type": "code",
   "execution_count": null,
   "metadata": {},
   "outputs": [],
   "source": [
    "for k in num_candidates:\n",
    "    column_name = f'als{k}'\n",
    "    for i in range(len(result_als[column_name])):\n",
    "        result_als[column_name][i] = list(map(int, result_als[column_name][i][1:-1].split(', ')))"
   ]
  },
  {
   "cell_type": "code",
   "execution_count": null,
   "metadata": {},
   "outputs": [],
   "source": [
    "for i in range(len(result_als[column_name])):\n",
    "    result_als['actual'][i] = list(map(int, result_als['actual'][i][1:-1].split(', ')))"
   ]
  },
  {
   "cell_type": "code",
   "execution_count": null,
   "metadata": {},
   "outputs": [],
   "source": [
    "items_500 = [i for i in result_als.loc[result_als['user_id']==1, 'als500'][0] if i in user_item_matrix.columns]"
   ]
  },
  {
   "cell_type": "code",
   "execution_count": null,
   "metadata": {},
   "outputs": [],
   "source": [
    "len(items_500)"
   ]
  },
  {
   "cell_type": "code",
   "execution_count": null,
   "metadata": {},
   "outputs": [],
   "source": [
    "scaled_item_features"
   ]
  },
  {
   "cell_type": "code",
   "execution_count": null,
   "metadata": {},
   "outputs": [],
   "source": [
    "predictions = model.predict(user_ids=1, item_ids=items_500,\n",
    "                            user_features=csr_matrix(scaled_user_features.values).tocsr(),\n",
    "                            item_features=csr_matrix(scaled_item_features.values).tocsr(),\n",
    "                            num_threads=1)"
   ]
  },
  {
   "cell_type": "code",
   "execution_count": null,
   "metadata": {},
   "outputs": [],
   "source": []
  }
 ],
 "metadata": {
  "colab": {
   "name": "hw_webinar_6.ipynb",
   "provenance": []
  },
  "kernelspec": {
   "display_name": "Python 3",
   "language": "python",
   "name": "python3"
  },
  "language_info": {
   "codemirror_mode": {
    "name": "ipython",
    "version": 3
   },
   "file_extension": ".py",
   "mimetype": "text/x-python",
   "name": "python",
   "nbconvert_exporter": "python",
   "pygments_lexer": "ipython3",
   "version": "3.7.9"
  }
 },
 "nbformat": 4,
 "nbformat_minor": 1
}
